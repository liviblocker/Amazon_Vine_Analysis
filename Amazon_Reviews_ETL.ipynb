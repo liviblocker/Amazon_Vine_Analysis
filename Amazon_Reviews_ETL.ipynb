{
  "nbformat": 4,
  "nbformat_minor": 0,
  "metadata": {
    "colab": {
      "name": "Amazon_Reviews_ETL.ipynb",
      "provenance": [],
      "collapsed_sections": []
    },
    "kernelspec": {
      "display_name": "PythonData",
      "language": "python",
      "name": "pythondata"
    },
    "language_info": {
      "codemirror_mode": {
        "name": "ipython",
        "version": 3
      },
      "file_extension": ".py",
      "mimetype": "text/x-python",
      "name": "python",
      "nbconvert_exporter": "python",
      "pygments_lexer": "ipython3",
      "version": "3.7.7"
    },
    "nteract": {
      "version": "0.12.3"
    }
  },
  "cells": [
    {
      "cell_type": "code",
      "metadata": {
        "id": "V58rxea0HqSa",
        "colab": {
          "base_uri": "https://localhost:8080/"
        },
        "outputId": "b1a477ab-1778-4bb8-ada1-8b423275f4e4"
      },
      "source": [
        "import os\n",
        "# Find the latest version of spark 2.0  from http://www-us.apache.org/dist/spark/ and enter as the spark version\n",
        "# For example:\n",
        "# spark_version = 'spark-3.0.0'\n",
        "spark_version = 'spark-3.0.1'\n",
        "os.environ['SPARK_VERSION']=spark_version\n",
        "\n",
        "# Install Spark and Java\n",
        "!apt-get update\n",
        "!apt-get install openjdk-11-jdk-headless -qq > /dev/null\n",
        "!wget -q http://www-us.apache.org/dist/spark/$SPARK_VERSION/$SPARK_VERSION-bin-hadoop2.7.tgz\n",
        "!tar xf $SPARK_VERSION-bin-hadoop2.7.tgz\n",
        "!pip install -q findspark\n",
        "\n",
        "# Set Environment Variables\n",
        "import os\n",
        "os.environ[\"JAVA_HOME\"] = \"/usr/lib/jvm/java-11-openjdk-amd64\"\n",
        "os.environ[\"SPARK_HOME\"] = f\"/content/{spark_version}-bin-hadoop2.7\"\n",
        "\n",
        "# Start a SparkSession\n",
        "import findspark\n",
        "findspark.init()"
      ],
      "execution_count": null,
      "outputs": [
        {
          "output_type": "stream",
          "text": [
            "\r0% [Working]\r            \rHit:1 https://cloud.r-project.org/bin/linux/ubuntu bionic-cran40/ InRelease\n",
            "\r0% [Waiting for headers] [Waiting for headers] [Waiting for headers] [Waiting f\r                                                                               \rIgn:2 https://developer.download.nvidia.com/compute/cuda/repos/ubuntu1804/x86_64  InRelease\n",
            "\r0% [Waiting for headers] [Waiting for headers] [Waiting for headers] [Waiting f\r0% [1 InRelease gpgv 3,626 B] [Waiting for headers] [Waiting for headers] [Wait\r                                                                               \rHit:3 http://ppa.launchpad.net/c2d4u.team/c2d4u4.0+/ubuntu bionic InRelease\n",
            "\r0% [1 InRelease gpgv 3,626 B] [Waiting for headers] [Waiting for headers] [Wait\r                                                                               \rHit:4 http://archive.ubuntu.com/ubuntu bionic InRelease\n",
            "\r0% [1 InRelease gpgv 3,626 B] [Waiting for headers] [Connecting to ppa.launchpa\r                                                                               \rGet:5 http://security.ubuntu.com/ubuntu bionic-security InRelease [88.7 kB]\n",
            "\r0% [1 InRelease gpgv 3,626 B] [Waiting for headers] [5 InRelease 14.2 kB/88.7 k\r                                                                               \rIgn:6 https://developer.download.nvidia.com/compute/machine-learning/repos/ubuntu1804/x86_64  InRelease\n",
            "\r0% [1 InRelease gpgv 3,626 B] [Waiting for headers] [5 InRelease 14.2 kB/88.7 k\r                                                                               \rHit:7 https://developer.download.nvidia.com/compute/cuda/repos/ubuntu1804/x86_64  Release\n",
            "\r0% [1 InRelease gpgv 3,626 B] [Waiting for headers] [5 InRelease 14.2 kB/88.7 k\r                                                                               \rHit:8 https://developer.download.nvidia.com/compute/machine-learning/repos/ubuntu1804/x86_64  Release\n",
            "Get:9 http://archive.ubuntu.com/ubuntu bionic-updates InRelease [88.7 kB]\n",
            "Hit:10 http://ppa.launchpad.net/cran/libgit2/ubuntu bionic InRelease\n",
            "Hit:11 http://ppa.launchpad.net/graphics-drivers/ppa/ubuntu bionic InRelease\n",
            "Get:12 http://archive.ubuntu.com/ubuntu bionic-backports InRelease [74.6 kB]\n",
            "Fetched 252 kB in 2s (105 kB/s)\n",
            "Reading package lists... Done\n"
          ],
          "name": "stdout"
        }
      ]
    },
    {
      "cell_type": "code",
      "metadata": {
        "id": "_xKwTpATHqSe",
        "colab": {
          "base_uri": "https://localhost:8080/"
        },
        "outputId": "c978121f-8109-44f1-adda-77d4297d7c49"
      },
      "source": [
        "# Download the Postgres driver that will allow Spark to interact with Postgres.\n",
        "!wget https://jdbc.postgresql.org/download/postgresql-42.2.16.jar"
      ],
      "execution_count": null,
      "outputs": [
        {
          "output_type": "stream",
          "text": [
            "--2021-01-25 18:20:15--  https://jdbc.postgresql.org/download/postgresql-42.2.16.jar\n",
            "Resolving jdbc.postgresql.org (jdbc.postgresql.org)... 72.32.157.228, 2001:4800:3e1:1::228\n",
            "Connecting to jdbc.postgresql.org (jdbc.postgresql.org)|72.32.157.228|:443... connected.\n",
            "HTTP request sent, awaiting response... 200 OK\n",
            "Length: 1002883 (979K) [application/java-archive]\n",
            "Saving to: ‘postgresql-42.2.16.jar.1’\n",
            "\n",
            "postgresql-42.2.16. 100%[===================>] 979.38K  --.-KB/s    in 0.1s    \n",
            "\n",
            "2021-01-25 18:20:15 (6.52 MB/s) - ‘postgresql-42.2.16.jar.1’ saved [1002883/1002883]\n",
            "\n"
          ],
          "name": "stdout"
        }
      ]
    },
    {
      "cell_type": "code",
      "metadata": {
        "id": "MMqDAjVS0KN9"
      },
      "source": [
        "from pyspark.sql import SparkSession\n",
        "spark = SparkSession.builder.appName(\"BigData-Challenge\").config(\"spark.driver.extraClassPath\",\"/content/postgresql-42.2.16.jar\").getOrCreate()"
      ],
      "execution_count": null,
      "outputs": []
    },
    {
      "cell_type": "markdown",
      "metadata": {
        "id": "cyBsySGuY-9V"
      },
      "source": [
        "### Load Amazon Data into Spark DataFrame"
      ]
    },
    {
      "cell_type": "code",
      "metadata": {
        "id": "CtCmBhQJY-9Z",
        "colab": {
          "base_uri": "https://localhost:8080/"
        },
        "outputId": "d808d25d-be99-4825-c8ad-c1255d44ad76"
      },
      "source": [
        "from pyspark import SparkFiles\n",
        "url = \"https://s3.amazonaws.com/amazon-reviews-pds/tsv/amazon_reviews_us_Outdoors_v1_00.tsv.gz\"\n",
        "spark.sparkContext.addFile(url)\n",
        "df = spark.read.option(\"encoding\", \"UTF-8\").csv(SparkFiles.get(\"\"), sep=\"\\t\", header=True, inferSchema=True)\n",
        "df.show()"
      ],
      "execution_count": null,
      "outputs": [
        {
          "output_type": "stream",
          "text": [
            "+-----------+-----------+--------------+----------+--------------+--------------------+----------------+-----------+-------------+-----------+----+-----------------+--------------------+--------------------+-----------+\n",
            "|marketplace|customer_id|     review_id|product_id|product_parent|       product_title|product_category|star_rating|helpful_votes|total_votes|vine|verified_purchase|     review_headline|         review_body|review_date|\n",
            "+-----------+-----------+--------------+----------+--------------+--------------------+----------------+-----------+-------------+-----------+----+-----------------+--------------------+--------------------+-----------+\n",
            "|         US|   18446823|R35T75OLUGHL5C|B000NV6H94|     110804376|Stearns Youth Boa...|        Outdoors|          4|            0|          0|   N|                Y|          Four Stars|          GOOD VALUE| 2015-08-31|\n",
            "|         US|   13724367|R2BV735O46BN33|B000IN0W3Y|     624096774|Primal Wear Men's...|        Outdoors|          5|            0|          0|   N|                Y|          Five Stars|  Excellent quality.| 2015-08-31|\n",
            "|         US|   51001958|R2NBEUGPQQGXP1|B008RBJXFM|     278970944|Osprey Hydraulics...|        Outdoors|          4|            0|          0|   N|                Y|Only Flaw Is The Cap|3rd season using ...| 2015-08-31|\n",
            "|         US|   32866903|R17LLAOJ8ITK0S|B00FK8WUQY|     312877650|CamelBak eddy .75...|        Outdoors|          3|            1|          1|   N|                Y|Poor design leads...|poor construction...| 2015-08-31|\n",
            "|         US|   30907790|R39PEQBT5ISEF4|B00EZA3VW0|     305567912|Children Black Re...|        Outdoors|          1|            0|          0|   N|                Y|Very bad quality,...|Very bad quality,...| 2015-08-31|\n",
            "|         US|   20232229|R3GNM3SU9VHJFT|B006JA8WEG|     842306035|Ibera Bicycle Tri...|        Outdoors|          4|            1|          1|   N|                Y|Nice bag. Should ...|Nice bag. Should ...| 2015-08-31|\n",
            "|         US|   17698862| R2Y81OP0EK467|B002PWFSEO|     451480122|Therm-a-Rest Comp...|        Outdoors|          5|            0|          0|   N|                Y|Very comfortable ...|Gave this to my s...| 2015-08-31|\n",
            "|         US|   38486114|R2LFGSI6HAYH5F|B002DZGKHW|     124386306|Sawyer Products P...|        Outdoors|          5|            1|          1|   N|                Y| Worked like a charm|Went on vacation ...| 2015-08-31|\n",
            "|         US|   26319572|R297G6ED1IQO7W|B00ABA08F6|     991442421|Zippo Hand Warmer...|        Outdoors|          5|            1|          1|   N|                Y|Great item. Gets ...|Great item. Gets ...| 2015-08-31|\n",
            "|         US|   27152337| RE27RFC6101N6|B003Z8WIHC|     886483892|Camp Chef Dutch O...|        Outdoors|          5|            0|          0|   N|                Y|Great value for t...|I am so glad I bo...| 2015-08-31|\n",
            "|         US|   12516845|R3BPDME6E94W8Z|B007CP6UK0|     150224054|3CERA Portable Wi...|        Outdoors|          5|            0|          0|   N|                Y|          Five Stars|        good to have| 2015-08-31|\n",
            "|         US|    3225242|R2P08O1RILUOX3|B003V3U9JK|     343847969|Texsport King Kot...|        Outdoors|          3|            0|          0|   N|                Y|Cot set up inconv...|VERY difficult to...| 2015-08-31|\n",
            "|         US|     961839|R37CVAB03PTDVI|B00Y846HN8|     858088629|Wallygadgets 2 Wh...|        Outdoors|          5|            0|          1|   N|                Y|          Five Stars|Thanks excellent ...| 2015-08-31|\n",
            "|         US|   47796452| RAWNWOGXPCPMD|B00IYQ84VY|     474493517|RainStoppers 34-I...|        Outdoors|          5|            0|          0|   N|                Y|          Five Stars|This umbrella is ...| 2015-08-31|\n",
            "|         US|   32004835| R5DYGP6ASX77M|B002MYCKLY|     920014456|Alpha Deluxe Port...|        Outdoors|          5|            0|          0|   N|                Y|          Five Stars|Love it !! I even...| 2015-08-31|\n",
            "|         US|   23972939|R1O0SAOOGF2KG7|B00EZV69JG|     128489321|Speedfil Z4 BTA B...|        Outdoors|          4|            0|          0|   N|                Y|        Good enough.|This is a fine mo...| 2015-08-31|\n",
            "|         US|   40889047|R35NJUT0U3MU3V|B00AWOT3T8|     571303876|O'Brien Kids Plat...|        Outdoors|          5|            0|          0|   N|                Y| Got Up on First Try|We just bought th...| 2015-08-31|\n",
            "|         US|   11244387|R242C08MF9D1AH|B0000AXTID|     739769424|Kwik-Tek F-5R Pla...|        Outdoors|          5|            0|          0|   N|                Y|They go over an a...|I have these on m...| 2015-08-31|\n",
            "|         US|   20121211| R3RYG8TJTO4E2|B00IFHFJXI|     984009972|Ivation Portable ...|        Outdoors|          5|            0|          0|   N|                Y|Greatest Item I b...|This is the best ...| 2015-08-31|\n",
            "|         US|   25657249|R3IKH1DNY0CP9F|B00KFILTWU|     405521681|GreenInsync Repla...|        Outdoors|          2|            0|          0|   N|                Y|I received this p...|I received this p...| 2015-08-31|\n",
            "+-----------+-----------+--------------+----------+--------------+--------------------+----------------+-----------+-------------+-----------+----+-----------------+--------------------+--------------------+-----------+\n",
            "only showing top 20 rows\n",
            "\n"
          ],
          "name": "stdout"
        }
      ]
    },
    {
      "cell_type": "markdown",
      "metadata": {
        "id": "2yUSe55VY-9t"
      },
      "source": [
        "### Create DataFrames to match tables"
      ]
    },
    {
      "cell_type": "code",
      "metadata": {
        "id": "C8REmY1aY-9u"
      },
      "source": [
        "from pyspark.sql.functions import to_date\n",
        "# Read in the datasets as DataFrames\n",
        "customers_filtered = df.select([\"customer_id\"])\n",
        "products_filtered = df.select([\"product_id\", \"product_title\"])\n",
        "review_filtered = df.select([\"review_id\", \"customer_id\", \"product_id\", \"product_parent\", \"review_date\"])\n",
        "vine_filtered = df.select([\"review_id\", \"star_rating\", \"helpful_votes\", \"total_votes\", \"vine\", \"verified_purchase\"])"
      ],
      "execution_count": null,
      "outputs": []
    },
    {
      "cell_type": "code",
      "metadata": {
        "id": "B0TESUDRY-90",
        "colab": {
          "base_uri": "https://localhost:8080/"
        },
        "outputId": "d2a6d2e7-9412-4c24-92a1-397800ce3abb"
      },
      "source": [
        "# Create the customers_table DataFrame\n",
        "customers_df = customers_filtered.groupby(\"customer_id\").agg({\"customer_id\": \"count\"}).withColumnRenamed(\"count(customer_id)\", \"customer_count\")\n",
        "customers_df.show()"
      ],
      "execution_count": null,
      "outputs": [
        {
          "output_type": "stream",
          "text": [
            "+-----------+--------------+\n",
            "|customer_id|customer_count|\n",
            "+-----------+--------------+\n",
            "|   43679767|             1|\n",
            "|   32024654|             1|\n",
            "|   52913169|             1|\n",
            "|   24297214|             1|\n",
            "|   26096454|             1|\n",
            "|   38247118|             1|\n",
            "|   44009906|             1|\n",
            "|    1753876|             1|\n",
            "|   26195644|             1|\n",
            "|   23042837|             1|\n",
            "|   11487525|             2|\n",
            "|   28258386|             1|\n",
            "|   42560427|             2|\n",
            "|   24540309|             1|\n",
            "|    1967239|             1|\n",
            "|   14217455|             1|\n",
            "|   20289484|            26|\n",
            "|   47103434|             1|\n",
            "|   28638887|             1|\n",
            "|     740678|             1|\n",
            "+-----------+--------------+\n",
            "only showing top 20 rows\n",
            "\n"
          ],
          "name": "stdout"
        }
      ]
    },
    {
      "cell_type": "code",
      "metadata": {
        "id": "4FwXA6UvY-96",
        "colab": {
          "base_uri": "https://localhost:8080/"
        },
        "outputId": "1a0b6a40-66f4-47e7-cc11-98803bd91360"
      },
      "source": [
        "# Create the products_table DataFrame and drop duplicates. \n",
        "products_df = products_filtered.select([\"product_id\", \"product_title\"]).drop_duplicates()\n",
        "products_df.show()"
      ],
      "execution_count": null,
      "outputs": [
        {
          "output_type": "stream",
          "text": [
            "+----------+--------------------+\n",
            "|product_id|       product_title|\n",
            "+----------+--------------------+\n",
            "|B00IFHFJXI|Ivation Portable ...|\n",
            "|B00WG0J0D0|JanSport Superbre...|\n",
            "|B00V15AUN0|Nickelodeon Paw P...|\n",
            "|B00FUWSTI8|Bago Lightweight ...|\n",
            "|B003FV94NA|Michelin Lithion ...|\n",
            "|B00WIK04HO|Ultra Bright Camp...|\n",
            "|B00J2HSCM0|High Sierra Tank ...|\n",
            "|B009I6NSR4|Black Veil Brides...|\n",
            "|B001GSHSLE|Stansport 191 App...|\n",
            "|B00L2IO9M4|Columbia Sportswe...|\n",
            "|B00KY7IM7W|Nalgene 32 Oz Wid...|\n",
            "|B00TV5JCTK|Rollerblade ABEC ...|\n",
            "|B00B9D071Y|BUFF UV Multifunc...|\n",
            "|B00F9IGIKO|Condor Tactical F...|\n",
            "|B004X55L9I|Hydro Flask Insul...|\n",
            "|B00LORROIY|Scuba Choice Divi...|\n",
            "|B00AATRU8G|Kelty Redwing 44 ...|\n",
            "|B00HMCYWEO|Dakine Explorer L...|\n",
            "|B004DK1CM8|Hot Headz 12V Hea...|\n",
            "|B00T4W6SSS|Fits Sock Light H...|\n",
            "+----------+--------------------+\n",
            "only showing top 20 rows\n",
            "\n"
          ],
          "name": "stdout"
        }
      ]
    },
    {
      "cell_type": "code",
      "metadata": {
        "id": "MkqyCuNQY-9-",
        "colab": {
          "base_uri": "https://localhost:8080/"
        },
        "outputId": "5cb3a5b3-0bb9-46af-b913-8cca8c3729e1"
      },
      "source": [
        "# Create the review_id_table DataFrame. \n",
        "# Convert the 'review_date' column to a date datatype with to_date(\"review_date\", 'yyyy-MM-dd').alias(\"review_date\")\n",
        "review_id_df = review_filtered.select([\"review_id\", \"customer_id\", \"product_id\", \"product_parent\", to_date(\"review_date\", 'yyyy-MM-dd').alias(\"review_date\")])\n",
        "review_id_df.show()"
      ],
      "execution_count": null,
      "outputs": [
        {
          "output_type": "stream",
          "text": [
            "+--------------+-----------+----------+--------------+-----------+\n",
            "|     review_id|customer_id|product_id|product_parent|review_date|\n",
            "+--------------+-----------+----------+--------------+-----------+\n",
            "|R35T75OLUGHL5C|   18446823|B000NV6H94|     110804376| 2015-08-31|\n",
            "|R2BV735O46BN33|   13724367|B000IN0W3Y|     624096774| 2015-08-31|\n",
            "|R2NBEUGPQQGXP1|   51001958|B008RBJXFM|     278970944| 2015-08-31|\n",
            "|R17LLAOJ8ITK0S|   32866903|B00FK8WUQY|     312877650| 2015-08-31|\n",
            "|R39PEQBT5ISEF4|   30907790|B00EZA3VW0|     305567912| 2015-08-31|\n",
            "|R3GNM3SU9VHJFT|   20232229|B006JA8WEG|     842306035| 2015-08-31|\n",
            "| R2Y81OP0EK467|   17698862|B002PWFSEO|     451480122| 2015-08-31|\n",
            "|R2LFGSI6HAYH5F|   38486114|B002DZGKHW|     124386306| 2015-08-31|\n",
            "|R297G6ED1IQO7W|   26319572|B00ABA08F6|     991442421| 2015-08-31|\n",
            "| RE27RFC6101N6|   27152337|B003Z8WIHC|     886483892| 2015-08-31|\n",
            "|R3BPDME6E94W8Z|   12516845|B007CP6UK0|     150224054| 2015-08-31|\n",
            "|R2P08O1RILUOX3|    3225242|B003V3U9JK|     343847969| 2015-08-31|\n",
            "|R37CVAB03PTDVI|     961839|B00Y846HN8|     858088629| 2015-08-31|\n",
            "| RAWNWOGXPCPMD|   47796452|B00IYQ84VY|     474493517| 2015-08-31|\n",
            "| R5DYGP6ASX77M|   32004835|B002MYCKLY|     920014456| 2015-08-31|\n",
            "|R1O0SAOOGF2KG7|   23972939|B00EZV69JG|     128489321| 2015-08-31|\n",
            "|R35NJUT0U3MU3V|   40889047|B00AWOT3T8|     571303876| 2015-08-31|\n",
            "|R242C08MF9D1AH|   11244387|B0000AXTID|     739769424| 2015-08-31|\n",
            "| R3RYG8TJTO4E2|   20121211|B00IFHFJXI|     984009972| 2015-08-31|\n",
            "|R3IKH1DNY0CP9F|   25657249|B00KFILTWU|     405521681| 2015-08-31|\n",
            "+--------------+-----------+----------+--------------+-----------+\n",
            "only showing top 20 rows\n",
            "\n"
          ],
          "name": "stdout"
        }
      ]
    },
    {
      "cell_type": "code",
      "metadata": {
        "id": "lzMmkdKmY--D",
        "colab": {
          "base_uri": "https://localhost:8080/"
        },
        "outputId": "4d75f94b-bc64-4a94-c28e-a2a6e3f90db8"
      },
      "source": [
        "# Create the vine_table. DataFrame\n",
        "vine_df = vine_filtered.select([\"review_id\", \"star_rating\", \"helpful_votes\", \"total_votes\", \"vine\", \"verified_purchase\"])\n",
        "vine_df.show()"
      ],
      "execution_count": null,
      "outputs": [
        {
          "output_type": "stream",
          "text": [
            "+--------------+-----------+-------------+-----------+----+-----------------+\n",
            "|     review_id|star_rating|helpful_votes|total_votes|vine|verified_purchase|\n",
            "+--------------+-----------+-------------+-----------+----+-----------------+\n",
            "|R35T75OLUGHL5C|          4|            0|          0|   N|                Y|\n",
            "|R2BV735O46BN33|          5|            0|          0|   N|                Y|\n",
            "|R2NBEUGPQQGXP1|          4|            0|          0|   N|                Y|\n",
            "|R17LLAOJ8ITK0S|          3|            1|          1|   N|                Y|\n",
            "|R39PEQBT5ISEF4|          1|            0|          0|   N|                Y|\n",
            "|R3GNM3SU9VHJFT|          4|            1|          1|   N|                Y|\n",
            "| R2Y81OP0EK467|          5|            0|          0|   N|                Y|\n",
            "|R2LFGSI6HAYH5F|          5|            1|          1|   N|                Y|\n",
            "|R297G6ED1IQO7W|          5|            1|          1|   N|                Y|\n",
            "| RE27RFC6101N6|          5|            0|          0|   N|                Y|\n",
            "|R3BPDME6E94W8Z|          5|            0|          0|   N|                Y|\n",
            "|R2P08O1RILUOX3|          3|            0|          0|   N|                Y|\n",
            "|R37CVAB03PTDVI|          5|            0|          1|   N|                Y|\n",
            "| RAWNWOGXPCPMD|          5|            0|          0|   N|                Y|\n",
            "| R5DYGP6ASX77M|          5|            0|          0|   N|                Y|\n",
            "|R1O0SAOOGF2KG7|          4|            0|          0|   N|                Y|\n",
            "|R35NJUT0U3MU3V|          5|            0|          0|   N|                Y|\n",
            "|R242C08MF9D1AH|          5|            0|          0|   N|                Y|\n",
            "| R3RYG8TJTO4E2|          5|            0|          0|   N|                Y|\n",
            "|R3IKH1DNY0CP9F|          2|            0|          0|   N|                Y|\n",
            "+--------------+-----------+-------------+-----------+----+-----------------+\n",
            "only showing top 20 rows\n",
            "\n"
          ],
          "name": "stdout"
        }
      ]
    },
    {
      "cell_type": "markdown",
      "metadata": {
        "id": "jITZhLkmY--J"
      },
      "source": [
        "### Connect to the AWS RDS instance and write each DataFrame to its table. "
      ]
    },
    {
      "cell_type": "code",
      "metadata": {
        "id": "7jiUvs1aY--L"
      },
      "source": [
        "# Configure settings for RDS\n",
        "mode = \"append\"\n",
        "jdbc_url=\"jdbc:postgresql://data-challenge.c969jxlkzz2v.us-east-2.rds.amazonaws.com:5432/Challenge_Schema\"\n",
        "config = {\"user\":\"postgres\", \n",
        "          \"password\": \"H0llyw00d!\", \n",
        "          \"driver\":\"org.postgresql.Driver\"}"
      ],
      "execution_count": null,
      "outputs": []
    },
    {
      "cell_type": "code",
      "metadata": {
        "id": "T2zgZ-aKY--Q"
      },
      "source": [
        "# Write review_id_df to table in RDS\n",
        "review_id_df.write.jdbc(url=jdbc_url, table='review_id_table', mode=mode, properties=config)"
      ],
      "execution_count": null,
      "outputs": []
    },
    {
      "cell_type": "code",
      "metadata": {
        "id": "1m3yzn-LY--U"
      },
      "source": [
        "# Write products_df to table in RDS\n",
        "# about 3 min\n",
        "products_df.write.jdbc(url=jdbc_url, table='products_table', mode=mode, properties=config)"
      ],
      "execution_count": null,
      "outputs": []
    },
    {
      "cell_type": "code",
      "metadata": {
        "id": "KbXri15fY--Z"
      },
      "source": [
        "# Write customers_df to table in RDS\n",
        "# 5 min 14 s\n",
        "customers_df.write.jdbc(url=jdbc_url, table='customers_table', mode=mode, properties=config)"
      ],
      "execution_count": null,
      "outputs": []
    },
    {
      "cell_type": "code",
      "metadata": {
        "id": "XdQknSHLY--e"
      },
      "source": [
        "# Write vine_df to table in RDS\n",
        "# 11 minutes\n",
        "vine_df.write.jdbc(url=jdbc_url, table='vine_table', mode=mode, properties=config)"
      ],
      "execution_count": null,
      "outputs": []
    },
    {
      "cell_type": "markdown",
      "metadata": {
        "id": "r2oEnlEt6IM0"
      },
      "source": [
        "# Determine Bias of Vine Reviews "
      ]
    },
    {
      "cell_type": "code",
      "metadata": {
        "colab": {
          "base_uri": "https://localhost:8080/"
        },
        "id": "MrmMXtLG6QCf",
        "outputId": "43fac740-a1dc-47c1-dc37-87ab49beebdd"
      },
      "source": [
        "votes_df = df.filter(df['total_votes'] >= 20)\n",
        "votes_df.show()"
      ],
      "execution_count": 12,
      "outputs": [
        {
          "output_type": "stream",
          "text": [
            "+-----------+-----------+--------------+----------+--------------+--------------------+----------------+-----------+-------------+-----------+----+-----------------+--------------------+--------------------+-----------+\n",
            "|marketplace|customer_id|     review_id|product_id|product_parent|       product_title|product_category|star_rating|helpful_votes|total_votes|vine|verified_purchase|     review_headline|         review_body|review_date|\n",
            "+-----------+-----------+--------------+----------+--------------+--------------------+----------------+-----------+-------------+-----------+----+-----------------+--------------------+--------------------+-----------+\n",
            "|         US|   30222858|R2FP3U4NHNFNL2|B00YPISPNC|     468413405|Stanley Classic V...|        Outdoors|          5|           25|         29|   N|                Y|GREAT GROWLER! NO...|This item is awes...| 2015-08-31|\n",
            "|         US|   35677754|R1UUK1977O38MU|B00T8NEI3A|      32341693|Camping Wood Burn...|        Outdoors|          5|           31|         31|   N|                Y|    Dinner is served|worked great, lov...| 2015-08-31|\n",
            "|         US|   45781324| RXO216LWUDV6O|B00FLTZ2ZS|     361297724|DNM Mountain Bike...|        Outdoors|          3|           29|         31|   N|                Y|         Air leak :(|I just got this a...| 2015-08-31|\n",
            "|         US|   16699467|R3NMJF7EBMM19V|B007SZ4XJ4|     188745514|VeloChampion MLT1...|        Outdoors|          3|           26|         27|   N|                Y|Good quality, act...|The only reason I...| 2015-08-31|\n",
            "|         US|   16299390|R2ZY0ZBDUO0XUY|B00NAINBM8|     754535833|Earthtrekgear Fol...|        Outdoors|          3|           20|         21|   N|                Y|Short and (almost...|It is almost impo...| 2015-08-31|\n",
            "|         US|   30196513| RBDVHX7PMQEKM|B00OAUPSSA|     877639199|Insta-Bed Raised ...|        Outdoors|          5|           35|         39|   N|                Y|   Nice air mattress|Nice air mattress...| 2015-08-31|\n",
            "|         US|   13750464| RGO3KSDXYWTGU|B00V65XX0C|     379510044|OuterEQ 0.8L Outd...|        Outdoors|          4|           26|         26|   N|                Y|      Almost perfect|This is a nice li...| 2015-08-31|\n",
            "|         US|    6930362|R2O4P39D0ALCQK|B00NPLSZF8|     968147881|Ultra Bright LED ...|        Outdoors|          2|           14|         43|   N|                Y|You may be better...|After seeing this...| 2015-08-31|\n",
            "|         US|   14428825|R1E1PQGHWGO3Q1|B007ZYIFQ0|     184431888|Igloo Iceless The...|        Outdoors|          1|           89|         96|   N|                Y|        Doesn't work|Cord melted the f...| 2015-08-31|\n",
            "|         US|   42845702|R1XOXXUVYZEDJB|B0087NHUWS|     740768441|     Ribz Front Pack|        Outdoors|          5|           22|         22|   N|                Y|Nice compliment t...|Nicely compliment...| 2015-08-31|\n",
            "|         US|   13557708| R7SHITUU5UG9U|B00NFCFNUM|     608702364|Kelty Salida 2 Pe...|        Outdoors|          5|           27|         27|   N|                Y|Worth it with lot...|I bought this ite...| 2015-08-31|\n",
            "|         US|   15323553|R230TLHU91M5Y3|B010X5715I|     302429091|SYRINX High Quali...|        Outdoors|          4|           21|         21|   N|                Y|  Great little mount|Great little moun...| 2015-08-31|\n",
            "|         US|   32928343| RHR5MKO23K9TU|B00CMAG6BI|     401191323|Camp Chef Italia ...|        Outdoors|          5|           26|         30|   N|                Y|Well worth the pr...|I have been tryin...| 2015-08-31|\n",
            "|         US|    3046458|R1HGK3TCY161D7|B011OLKB3O|     653374459|Stanley Adventure...|        Outdoors|          5|           52|         55|   N|                N|Great for chunky ...|I got this thermo...| 2015-08-31|\n",
            "|         US|   51111929|R340QYAVNZZHJA|B005LURMSW|     340426618|Mountainsmith Con...|        Outdoors|          4|           25|         25|   N|                N|Spacious Tent, Hi...|My wife and I sea...| 2015-08-31|\n",
            "|         US|     923391|R2F1UVQK0JL4QH|B00AHSRM1A|      15004904|Raider Ultralight...|        Outdoors|          3|           20|         20|   N|                Y|Compact- Seems we...|The &#34;Guy Line...| 2015-08-31|\n",
            "|         US|   43108390|R1N21UY546VWMN|B00DZLVDAC|     212774904|ExOfficio Men's G...|        Outdoors|          2|           48|         50|   N|                Y|These fit great, ...|These fit great, ...| 2015-08-31|\n",
            "|         US|   13629614|R1E4L344EK0ZOT|B012BRMTHG|     283537352|Cal 7 22 Inch Com...|        Outdoors|          5|           20|         26|   N|                N|This was a perfec...|This was a perfec...| 2015-08-31|\n",
            "|         US|   35439949|R282QUZDDJW3ON|B000NVBH8A|     136509543|Stearns Adult Cla...|        Outdoors|          4|           45|         49|   N|                Y|Universal for all...|Get universal unl...| 2015-08-31|\n",
            "|         US|   13260359|R3H5T3T7QY3ZL2|B00Y846HN8|     858088629|Wallygadgets 2 Wh...|        Outdoors|          5|          247|        263|   N|                Y|BEWARE OF THE SCA...|first off let me ...| 2015-08-31|\n",
            "+-----------+-----------+--------------+----------+--------------+--------------------+----------------+-----------+-------------+-----------+----+-----------------+--------------------+--------------------+-----------+\n",
            "only showing top 20 rows\n",
            "\n"
          ],
          "name": "stdout"
        }
      ]
    },
    {
      "cell_type": "code",
      "metadata": {
        "colab": {
          "base_uri": "https://localhost:8080/"
        },
        "id": "3u_PPk1f6uWb",
        "outputId": "1b2b82c5-2c04-426b-e92c-9458e3d1530e"
      },
      "source": [
        "helpful_votes_df = votes_df.filter(votes_df['helpful_votes']/votes_df['total_votes'] >= .5)\n",
        "helpful_votes_df.show()"
      ],
      "execution_count": 13,
      "outputs": [
        {
          "output_type": "stream",
          "text": [
            "+-----------+-----------+--------------+----------+--------------+--------------------+----------------+-----------+-------------+-----------+----+-----------------+--------------------+--------------------+-----------+\n",
            "|marketplace|customer_id|     review_id|product_id|product_parent|       product_title|product_category|star_rating|helpful_votes|total_votes|vine|verified_purchase|     review_headline|         review_body|review_date|\n",
            "+-----------+-----------+--------------+----------+--------------+--------------------+----------------+-----------+-------------+-----------+----+-----------------+--------------------+--------------------+-----------+\n",
            "|         US|   30222858|R2FP3U4NHNFNL2|B00YPISPNC|     468413405|Stanley Classic V...|        Outdoors|          5|           25|         29|   N|                Y|GREAT GROWLER! NO...|This item is awes...| 2015-08-31|\n",
            "|         US|   35677754|R1UUK1977O38MU|B00T8NEI3A|      32341693|Camping Wood Burn...|        Outdoors|          5|           31|         31|   N|                Y|    Dinner is served|worked great, lov...| 2015-08-31|\n",
            "|         US|   45781324| RXO216LWUDV6O|B00FLTZ2ZS|     361297724|DNM Mountain Bike...|        Outdoors|          3|           29|         31|   N|                Y|         Air leak :(|I just got this a...| 2015-08-31|\n",
            "|         US|   16699467|R3NMJF7EBMM19V|B007SZ4XJ4|     188745514|VeloChampion MLT1...|        Outdoors|          3|           26|         27|   N|                Y|Good quality, act...|The only reason I...| 2015-08-31|\n",
            "|         US|   16299390|R2ZY0ZBDUO0XUY|B00NAINBM8|     754535833|Earthtrekgear Fol...|        Outdoors|          3|           20|         21|   N|                Y|Short and (almost...|It is almost impo...| 2015-08-31|\n",
            "|         US|   30196513| RBDVHX7PMQEKM|B00OAUPSSA|     877639199|Insta-Bed Raised ...|        Outdoors|          5|           35|         39|   N|                Y|   Nice air mattress|Nice air mattress...| 2015-08-31|\n",
            "|         US|   13750464| RGO3KSDXYWTGU|B00V65XX0C|     379510044|OuterEQ 0.8L Outd...|        Outdoors|          4|           26|         26|   N|                Y|      Almost perfect|This is a nice li...| 2015-08-31|\n",
            "|         US|   14428825|R1E1PQGHWGO3Q1|B007ZYIFQ0|     184431888|Igloo Iceless The...|        Outdoors|          1|           89|         96|   N|                Y|        Doesn't work|Cord melted the f...| 2015-08-31|\n",
            "|         US|   42845702|R1XOXXUVYZEDJB|B0087NHUWS|     740768441|     Ribz Front Pack|        Outdoors|          5|           22|         22|   N|                Y|Nice compliment t...|Nicely compliment...| 2015-08-31|\n",
            "|         US|   13557708| R7SHITUU5UG9U|B00NFCFNUM|     608702364|Kelty Salida 2 Pe...|        Outdoors|          5|           27|         27|   N|                Y|Worth it with lot...|I bought this ite...| 2015-08-31|\n",
            "|         US|   15323553|R230TLHU91M5Y3|B010X5715I|     302429091|SYRINX High Quali...|        Outdoors|          4|           21|         21|   N|                Y|  Great little mount|Great little moun...| 2015-08-31|\n",
            "|         US|   32928343| RHR5MKO23K9TU|B00CMAG6BI|     401191323|Camp Chef Italia ...|        Outdoors|          5|           26|         30|   N|                Y|Well worth the pr...|I have been tryin...| 2015-08-31|\n",
            "|         US|    3046458|R1HGK3TCY161D7|B011OLKB3O|     653374459|Stanley Adventure...|        Outdoors|          5|           52|         55|   N|                N|Great for chunky ...|I got this thermo...| 2015-08-31|\n",
            "|         US|   51111929|R340QYAVNZZHJA|B005LURMSW|     340426618|Mountainsmith Con...|        Outdoors|          4|           25|         25|   N|                N|Spacious Tent, Hi...|My wife and I sea...| 2015-08-31|\n",
            "|         US|     923391|R2F1UVQK0JL4QH|B00AHSRM1A|      15004904|Raider Ultralight...|        Outdoors|          3|           20|         20|   N|                Y|Compact- Seems we...|The &#34;Guy Line...| 2015-08-31|\n",
            "|         US|   43108390|R1N21UY546VWMN|B00DZLVDAC|     212774904|ExOfficio Men's G...|        Outdoors|          2|           48|         50|   N|                Y|These fit great, ...|These fit great, ...| 2015-08-31|\n",
            "|         US|   13629614|R1E4L344EK0ZOT|B012BRMTHG|     283537352|Cal 7 22 Inch Com...|        Outdoors|          5|           20|         26|   N|                N|This was a perfec...|This was a perfec...| 2015-08-31|\n",
            "|         US|   35439949|R282QUZDDJW3ON|B000NVBH8A|     136509543|Stearns Adult Cla...|        Outdoors|          4|           45|         49|   N|                Y|Universal for all...|Get universal unl...| 2015-08-31|\n",
            "|         US|   13260359|R3H5T3T7QY3ZL2|B00Y846HN8|     858088629|Wallygadgets 2 Wh...|        Outdoors|          5|          247|        263|   N|                Y|BEWARE OF THE SCA...|first off let me ...| 2015-08-31|\n",
            "|         US|   48844345|R3W1A1P95IIGHX|B00Z8V5OV6|      37436668|Ezisoul Large 32o...|        Outdoors|          5|           23|         25|   N|                N|This one is HANDS...|I have a few wate...| 2015-08-31|\n",
            "+-----------+-----------+--------------+----------+--------------+--------------------+----------------+-----------+-------------+-----------+----+-----------------+--------------------+--------------------+-----------+\n",
            "only showing top 20 rows\n",
            "\n"
          ],
          "name": "stdout"
        }
      ]
    },
    {
      "cell_type": "code",
      "metadata": {
        "colab": {
          "base_uri": "https://localhost:8080/"
        },
        "id": "O1_mKkfW6_g-",
        "outputId": "bc1a4ab2-de06-475d-fc03-4924f939d24d"
      },
      "source": [
        "vine_votes_df = helpful_votes_df.filter(helpful_votes_df['vine']== \"Y\")\n",
        "vine_votes_df.show()"
      ],
      "execution_count": 14,
      "outputs": [
        {
          "output_type": "stream",
          "text": [
            "+-----------+-----------+--------------+----------+--------------+--------------------+----------------+-----------+-------------+-----------+----+-----------------+--------------------+--------------------+-----------+\n",
            "|marketplace|customer_id|     review_id|product_id|product_parent|       product_title|product_category|star_rating|helpful_votes|total_votes|vine|verified_purchase|     review_headline|         review_body|review_date|\n",
            "+-----------+-----------+--------------+----------+--------------+--------------------+----------------+-----------+-------------+-----------+----+-----------------+--------------------+--------------------+-----------+\n",
            "|         US|   43335941|R3KPC0NBUDASX3|B00R8KC02Q|     872035750|Thule EnRoute Tri...|        Outdoors|          5|           25|         25|   Y|                N|Love the Thule ba...|THULE:<br /><br /...| 2015-08-24|\n",
            "|         US|   36470546|R119P2A95GGXX4|B00NOYKVSK|     165748383|Wenzel Temp Contr...|        Outdoors|          5|           26|         28|   Y|                N|Very Comfy--Here'...|This sleeping bag...| 2015-07-09|\n",
            "|         US|   50794278|R1HKIRME8AJ89Z|B00GK4LUXQ|     737005436|Klymit Inertia O ...|        Outdoors|          5|           79|         82|   Y|                N|A sleeping pad li...|[[VIDEOID:4513a9b...| 2015-07-04|\n",
            "|         US|   44173076|R3FY3GMBGOBR22|B00NFCFDRA|     585483297|Kelty Dualist 6 D...|        Outdoors|          5|           12|         20|   Y|                N|The Cadillac of s...|This Kelty Sleepi...| 2015-06-16|\n",
            "|         US|   43856165|R15KH3FBSVYGBU|B00NFCFIR0|     167877886|Kelty Tuck 22 Deg...|        Outdoors|          5|           32|         37|   Y|                N|Compared to Kelty...|I own both the [[...| 2015-06-14|\n",
            "|         US|   25821331|R22XZEQLVLWW49|B00NFCFAYQ|     771093954|Cosmic Down 20 De...|        Outdoors|          5|           28|         33|   Y|                N|A really great sl...|Wow!  Having just...| 2015-06-11|\n",
            "|         US|   11556116|R2OIQYVAL9D63R|B00NFCFIR0|     167877886|Kelty Tuck 22 Deg...|        Outdoors|          4|           59|         65|   Y|                N|Like the Foot fea...|I already own thr...| 2015-06-09|\n",
            "|         US|   11556116|R1W3KCDHM6BMZT|B00G6KURDI|     463959079|Kelty TN 2 Person...|        Outdoors|          4|           37|         38|   Y|                N|Light weight, roo...|I like the rolled...| 2015-06-05|\n",
            "|         US|   18267561|R3KDMPS96IJ10R|B00R8K9VZA|     306686399|Thule RideAlong M...|        Outdoors|          2|           15|         21|   Y|                N|Awkward, unstable...|Despite the slick...| 2015-05-10|\n",
            "|         US|   13722260|R1XWEI58A7VKLB|B00R6SBMPG|     141037234|Thule Vertex XT H...|        Outdoors|          5|          123|        128|   Y|                N|The best hitch ra...|First off, this t...| 2015-05-08|\n",
            "|         US|   50599697|R1CJWM6CMWKSA1|B00M542ILI|     410973207|Thule Raceway Pro...|        Outdoors|          4|           31|         33|   Y|                N|Recommended. Grea...|From an owner and...| 2015-05-05|\n",
            "|         US|   41604883|R39I3FUDBKZM3Y|B00R6SBMPG|     141037234|Thule Vertex XT H...|        Outdoors|          5|           34|         38|   Y|                N|  Solid in every way|Best bike carrier...| 2015-05-01|\n",
            "|         US|   51250504|R32LU0KSL7QWSF|B00R6SBML0|     485306161|Thule Vertex Swin...|        Outdoors|          5|           35|         37|   Y|                N|Excellent - Swing...|This is a wonderf...| 2015-05-01|\n",
            "|         US|   31302915|R2LGDXO3MG2WQW|B00U4HDLGO|     706335403|Thule Urban Glide...|        Outdoors|          5|           37|         41|   Y|                N|Thule Glide 2 for...|We might have a n...| 2015-04-19|\n",
            "|         US|   44341716|R16AVI2NTYWLKI|B00R8K9VZA|     306686399|Thule RideAlong M...|        Outdoors|          5|           31|         33|   Y|                N|Great way to ride...|We have 3 childre...| 2015-04-03|\n",
            "|         US|   45351550|R12K0ITIV6AYM3|B00FZLIK1U|     156536278|Thule Cadence Chi...|        Outdoors|          5|           34|         34|   Y|                N|Excellent dedicat...|Above the fold re...| 2015-03-24|\n",
            "|         US|   45351550| R9ILZLNNK93CO|B00FOUMCD4|     129685188|Thule Coaster2+ B...|        Outdoors|          5|           38|         39|   Y|                N|More dialed in to...|In 2011 Thule dec...| 2015-03-23|\n",
            "|         US|   45351550|R1CS8VSI1KSR1P|B00KNTHH2C|     347242708|Thule Glide - Per...|        Outdoors|          5|           21|         22|   Y|                N|Glide or Urban Gl...|Above the fold ve...| 2015-03-23|\n",
            "|         US|   11556116|R186TCIH8TEGPY|B00SISWNZG|     959754939|Mountain House Sc...|        Outdoors|          5|           40|         43|   Y|                N|Mountain house br...|I just love these...| 2015-03-04|\n",
            "|         US|   52532594| R3GBQRR2GY4SP|B00SISWXVK|     994639471|Mountain House Br...|        Outdoors|          4|          119|        125|   Y|                N|A postitive exper...|I have NEVER had ...| 2015-02-27|\n",
            "+-----------+-----------+--------------+----------+--------------+--------------------+----------------+-----------+-------------+-----------+----+-----------------+--------------------+--------------------+-----------+\n",
            "only showing top 20 rows\n",
            "\n"
          ],
          "name": "stdout"
        }
      ]
    },
    {
      "cell_type": "code",
      "metadata": {
        "colab": {
          "base_uri": "https://localhost:8080/"
        },
        "id": "pT9jQNT67WnF",
        "outputId": "bf792472-a46c-4ff5-cc59-1ed951af5426"
      },
      "source": [
        "nonvine_votes_df = helpful_votes_df.filter(helpful_votes_df['vine']== \"N\")\n",
        "nonvine_votes_df.show()"
      ],
      "execution_count": 15,
      "outputs": [
        {
          "output_type": "stream",
          "text": [
            "+-----------+-----------+--------------+----------+--------------+--------------------+----------------+-----------+-------------+-----------+----+-----------------+--------------------+--------------------+-----------+\n",
            "|marketplace|customer_id|     review_id|product_id|product_parent|       product_title|product_category|star_rating|helpful_votes|total_votes|vine|verified_purchase|     review_headline|         review_body|review_date|\n",
            "+-----------+-----------+--------------+----------+--------------+--------------------+----------------+-----------+-------------+-----------+----+-----------------+--------------------+--------------------+-----------+\n",
            "|         US|   30222858|R2FP3U4NHNFNL2|B00YPISPNC|     468413405|Stanley Classic V...|        Outdoors|          5|           25|         29|   N|                Y|GREAT GROWLER! NO...|This item is awes...| 2015-08-31|\n",
            "|         US|   35677754|R1UUK1977O38MU|B00T8NEI3A|      32341693|Camping Wood Burn...|        Outdoors|          5|           31|         31|   N|                Y|    Dinner is served|worked great, lov...| 2015-08-31|\n",
            "|         US|   45781324| RXO216LWUDV6O|B00FLTZ2ZS|     361297724|DNM Mountain Bike...|        Outdoors|          3|           29|         31|   N|                Y|         Air leak :(|I just got this a...| 2015-08-31|\n",
            "|         US|   16699467|R3NMJF7EBMM19V|B007SZ4XJ4|     188745514|VeloChampion MLT1...|        Outdoors|          3|           26|         27|   N|                Y|Good quality, act...|The only reason I...| 2015-08-31|\n",
            "|         US|   16299390|R2ZY0ZBDUO0XUY|B00NAINBM8|     754535833|Earthtrekgear Fol...|        Outdoors|          3|           20|         21|   N|                Y|Short and (almost...|It is almost impo...| 2015-08-31|\n",
            "|         US|   30196513| RBDVHX7PMQEKM|B00OAUPSSA|     877639199|Insta-Bed Raised ...|        Outdoors|          5|           35|         39|   N|                Y|   Nice air mattress|Nice air mattress...| 2015-08-31|\n",
            "|         US|   13750464| RGO3KSDXYWTGU|B00V65XX0C|     379510044|OuterEQ 0.8L Outd...|        Outdoors|          4|           26|         26|   N|                Y|      Almost perfect|This is a nice li...| 2015-08-31|\n",
            "|         US|   14428825|R1E1PQGHWGO3Q1|B007ZYIFQ0|     184431888|Igloo Iceless The...|        Outdoors|          1|           89|         96|   N|                Y|        Doesn't work|Cord melted the f...| 2015-08-31|\n",
            "|         US|   42845702|R1XOXXUVYZEDJB|B0087NHUWS|     740768441|     Ribz Front Pack|        Outdoors|          5|           22|         22|   N|                Y|Nice compliment t...|Nicely compliment...| 2015-08-31|\n",
            "|         US|   13557708| R7SHITUU5UG9U|B00NFCFNUM|     608702364|Kelty Salida 2 Pe...|        Outdoors|          5|           27|         27|   N|                Y|Worth it with lot...|I bought this ite...| 2015-08-31|\n",
            "|         US|   15323553|R230TLHU91M5Y3|B010X5715I|     302429091|SYRINX High Quali...|        Outdoors|          4|           21|         21|   N|                Y|  Great little mount|Great little moun...| 2015-08-31|\n",
            "|         US|   32928343| RHR5MKO23K9TU|B00CMAG6BI|     401191323|Camp Chef Italia ...|        Outdoors|          5|           26|         30|   N|                Y|Well worth the pr...|I have been tryin...| 2015-08-31|\n",
            "|         US|    3046458|R1HGK3TCY161D7|B011OLKB3O|     653374459|Stanley Adventure...|        Outdoors|          5|           52|         55|   N|                N|Great for chunky ...|I got this thermo...| 2015-08-31|\n",
            "|         US|   51111929|R340QYAVNZZHJA|B005LURMSW|     340426618|Mountainsmith Con...|        Outdoors|          4|           25|         25|   N|                N|Spacious Tent, Hi...|My wife and I sea...| 2015-08-31|\n",
            "|         US|     923391|R2F1UVQK0JL4QH|B00AHSRM1A|      15004904|Raider Ultralight...|        Outdoors|          3|           20|         20|   N|                Y|Compact- Seems we...|The &#34;Guy Line...| 2015-08-31|\n",
            "|         US|   43108390|R1N21UY546VWMN|B00DZLVDAC|     212774904|ExOfficio Men's G...|        Outdoors|          2|           48|         50|   N|                Y|These fit great, ...|These fit great, ...| 2015-08-31|\n",
            "|         US|   13629614|R1E4L344EK0ZOT|B012BRMTHG|     283537352|Cal 7 22 Inch Com...|        Outdoors|          5|           20|         26|   N|                N|This was a perfec...|This was a perfec...| 2015-08-31|\n",
            "|         US|   35439949|R282QUZDDJW3ON|B000NVBH8A|     136509543|Stearns Adult Cla...|        Outdoors|          4|           45|         49|   N|                Y|Universal for all...|Get universal unl...| 2015-08-31|\n",
            "|         US|   13260359|R3H5T3T7QY3ZL2|B00Y846HN8|     858088629|Wallygadgets 2 Wh...|        Outdoors|          5|          247|        263|   N|                Y|BEWARE OF THE SCA...|first off let me ...| 2015-08-31|\n",
            "|         US|   48844345|R3W1A1P95IIGHX|B00Z8V5OV6|      37436668|Ezisoul Large 32o...|        Outdoors|          5|           23|         25|   N|                N|This one is HANDS...|I have a few wate...| 2015-08-31|\n",
            "+-----------+-----------+--------------+----------+--------------+--------------------+----------------+-----------+-------------+-----------+----+-----------------+--------------------+--------------------+-----------+\n",
            "only showing top 20 rows\n",
            "\n"
          ],
          "name": "stdout"
        }
      ]
    },
    {
      "cell_type": "code",
      "metadata": {
        "id": "yNtJGBY37jUJ"
      },
      "source": [
        ""
      ],
      "execution_count": null,
      "outputs": []
    }
  ]
}